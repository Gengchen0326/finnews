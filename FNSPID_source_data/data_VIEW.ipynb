{
 "cells": [
  {
   "cell_type": "markdown",
   "metadata": {},
   "source": [
    "# Preprocessing Data"
   ]
  },
  {
   "cell_type": "code",
   "execution_count": 6,
   "metadata": {},
   "outputs": [
    {
     "name": "stderr",
     "output_type": "stream",
     "text": [
      "C:\\Users\\Mencius\\AppData\\Local\\Temp\\ipykernel_36564\\3537356617.py:11: DtypeWarning: Columns (6) have mixed types. Specify dtype option on import or set low_memory=False.\n",
      "  df_all = pd.read_csv(filepath_all)\n"
     ]
    },
    {
     "name": "stdout",
     "output_type": "stream",
     "text": [
      "                        Date  \\\n",
      "0  2020-06-05 06:30:54+00:00   \n",
      "1  2020-06-03 06:45:20+00:00   \n",
      "2  2020-05-26 00:30:07+00:00   \n",
      "3  2020-05-22 08:45:06+00:00   \n",
      "4  2020-05-22 07:38:59+00:00   \n",
      "\n",
      "                                       Article_title Stock_symbol  \\\n",
      "0            Stocks That Hit 52-Week Highs On Friday            A   \n",
      "1         Stocks That Hit 52-Week Highs On Wednesday            A   \n",
      "2                      71 Biggest Movers From Friday            A   \n",
      "3       46 Stocks Moving In Friday's Mid-Day Session            A   \n",
      "4  B of A Securities Maintains Neutral on Agilent...            A   \n",
      "\n",
      "                                                 Url          Publisher  \\\n",
      "0  https://www.benzinga.com/news/20/06/16190091/s...  Benzinga Insights   \n",
      "1  https://www.benzinga.com/news/20/06/16170189/s...  Benzinga Insights   \n",
      "2  https://www.benzinga.com/news/20/05/16103463/7...         Lisa Levin   \n",
      "3  https://www.benzinga.com/news/20/05/16095921/4...         Lisa Levin   \n",
      "4  https://www.benzinga.com/news/20/05/16095304/b...         Vick Meyer   \n",
      "\n",
      "   Author Article  Lsa_summary  Luhn_summary  Textrank_summary  \\\n",
      "0     NaN     NaN          NaN           NaN               NaN   \n",
      "1     NaN     NaN          NaN           NaN               NaN   \n",
      "2     NaN     NaN          NaN           NaN               NaN   \n",
      "3     NaN     NaN          NaN           NaN               NaN   \n",
      "4     NaN     NaN          NaN           NaN               NaN   \n",
      "\n",
      "   Lexrank_summary  \n",
      "0              NaN  \n",
      "1              NaN  \n",
      "2              NaN  \n",
      "3              NaN  \n",
      "4              NaN  \n",
      "   Unnamed: 0                       Date  \\\n",
      "0         0.0  2023-12-16 23:00:00+00:00   \n",
      "1         1.0  2023-12-12 00:00:00+00:00   \n",
      "2         2.0  2023-12-12 00:00:00+00:00   \n",
      "3         3.0  2023-12-07 00:00:00+00:00   \n",
      "4         4.0  2023-12-07 00:00:00+00:00   \n",
      "\n",
      "                                       Article_title Stock_symbol  \\\n",
      "0  Interesting A Put And Call Options For August ...            A   \n",
      "1  Wolfe Research Initiates Coverage of Agilent T...            A   \n",
      "2  Agilent Technologies Reaches Analyst Target Price            A   \n",
      "3  Agilent (A) Enhances BioTek Cytation C10 With ...            A   \n",
      "4  Pre-Market Most Active for Dec 7, 2023 : SQQQ,...            A   \n",
      "\n",
      "                                                 Url  Publisher  Author  \\\n",
      "0  https://www.nasdaq.com/articles/interesting-a-...        NaN     NaN   \n",
      "1  https://www.nasdaq.com/articles/wolfe-research...        NaN     NaN   \n",
      "2  https://www.nasdaq.com/articles/agilent-techno...        NaN     NaN   \n",
      "3  https://www.nasdaq.com/articles/agilent-a-enha...        NaN     NaN   \n",
      "4  https://www.nasdaq.com/articles/pre-market-mos...        NaN     NaN   \n",
      "\n",
      "                                             Article  \\\n",
      "0  Investors in Agilent Technologies, Inc. (Symbo...   \n",
      "1  Fintel reports that on December 13, 2023, Wolf...   \n",
      "2  In recent trading, shares of Agilent Technolog...   \n",
      "3  Agilent Technologies A is enhancing its BioTek...   \n",
      "4  The NASDAQ 100 Pre-Market Indicator is up 70.2...   \n",
      "\n",
      "                                         Lsa_summary  \\\n",
      "0  Because the $125.00 strike represents an appro...   \n",
      "1  Fintel reports that on December 13, 2023, Wolf...   \n",
      "2  In recent trading, shares of Agilent Technolog...   \n",
      "3  Per a Grand View Research report, the global m...   \n",
      "4  ProShares UltraPro Short QQQ (SQQQ) is -0.15 a...   \n",
      "\n",
      "                                        Luhn_summary  \\\n",
      "0  The current analytical data (including greeks ...   \n",
      "1  T. Rowe Price Investment Management holds 10,1...   \n",
      "2  In recent trading, shares of Agilent Technolog...   \n",
      "3  Notably, Agilent enhanced the BioTek Cytation ...   \n",
      "4  As reported by Zacks, the current mean recomme...   \n",
      "\n",
      "                                    Textrank_summary  \\\n",
      "0  Below is a chart showing the trailing twelve m...   \n",
      "1  Agilent Technologies Declares $0.24 Dividend O...   \n",
      "2  When a stock reaches the target an analyst has...   \n",
      "3  Agilent Technologies, Inc. Price and Consensus...   \n",
      "4  The total Pre-Market volume is currently 39,23...   \n",
      "\n",
      "                                     Lexrank_summary  \n",
      "0  At Stock Options Channel, our YieldBoost formu...  \n",
      "1  The projected annual revenue for Agilent Techn...  \n",
      "2  When a stock reaches the target an analyst has...  \n",
      "3  Notably, Agilent enhanced the BioTek Cytation ...  \n",
      "4  The NASDAQ 100 Pre-Market Indicator is up 70.2...  \n"
     ]
    }
   ],
   "source": [
    "import os\n",
    "import pandas as pd\n",
    "\n",
    "# Get the script directory (handles cases where __file__ is not defined)\n",
    "script_dir = os.path.dirname(os.path.abspath(__file__)) if '__file__' in globals() else os.getcwd()\n",
    "\n",
    "news_dir = os.path.join(script_dir, 'sampled_news')\n",
    "filepath_all = os.path.join(news_dir, 'all_last_1years.csv')\n",
    "filepath_nas = os.path.join(news_dir, 'nasdaq_last_1years.csv')\n",
    "\n",
    "df_all = pd.read_csv(filepath_all)\n",
    "df_nas = pd.read_csv(filepath_nas)\n",
    "print(df_all.head())\n",
    "print(df_nas.head())\n",
    "\n",
    "\n"
   ]
  },
  {
   "cell_type": "code",
   "execution_count": 4,
   "metadata": {},
   "outputs": [
    {
     "data": {
      "text/plain": [
       "(2452699, 12)"
      ]
     },
     "execution_count": 4,
     "metadata": {},
     "output_type": "execute_result"
    }
   ],
   "source": [
    "df_nas.shape"
   ]
  },
  {
   "cell_type": "code",
   "execution_count": 5,
   "metadata": {},
   "outputs": [
    {
     "data": {
      "text/plain": [
       "Index(['Date', 'Article_title', 'Stock_symbol', 'Url', 'Publisher', 'Author',\n",
       "       'Article', 'Lsa_summary', 'Luhn_summary', 'Textrank_summary',\n",
       "       'Lexrank_summary'],\n",
       "      dtype='object')"
      ]
     },
     "execution_count": 5,
     "metadata": {},
     "output_type": "execute_result"
    }
   ],
   "source": [
    "df_all.columns\n"
   ]
  },
  {
   "cell_type": "code",
   "execution_count": 2,
   "metadata": {},
   "outputs": [
    {
     "name": "stdout",
     "output_type": "stream",
     "text": [
      "Publisher: 空值数量 = 1684726, 非空值数量 = 767973, 比例 = 31.31%\n",
      "Author: 空值数量 = 2452699, 非空值数量 = 0, 比例 = 0.00%\n"
     ]
    }
   ],
   "source": [
    "# 检查df_nas中的publisher和author的空值和非空值数量，以及比例\n",
    "total_publishers = df_nas['Publisher'].size\n",
    "total_authors = df_nas['Author'].size\n",
    "\n",
    "empty_publishers_count = df_nas['Publisher'].isnull().sum()\n",
    "empty_authors_count = df_nas['Author'].isnull().sum()\n",
    "\n",
    "non_empty_publishers_count = total_publishers - empty_publishers_count\n",
    "non_empty_authors_count = total_authors - empty_authors_count\n",
    "\n",
    "publisher_ratio = non_empty_publishers_count / total_publishers\n",
    "author_ratio = non_empty_authors_count / total_authors\n",
    "\n",
    "print(f\"Publisher: 空值数量 = {empty_publishers_count}, 非空值数量 = {non_empty_publishers_count}, 比例 = {publisher_ratio:.2%}\")\n",
    "print(f\"Author: 空值数量 = {empty_authors_count}, 非空值数量 = {non_empty_authors_count}, 比例 = {author_ratio:.2%}\")\n"
   ]
  },
  {
   "cell_type": "code",
   "execution_count": 3,
   "metadata": {},
   "outputs": [
    {
     "name": "stdout",
     "output_type": "stream",
     "text": [
      "Publisher: 空值数量 = 512, 非空值数量 = 537365, 比例 = 99.90%\n",
      "Author: 空值数量 = 537877, 非空值数量 = 0, 比例 = 0.00%\n"
     ]
    }
   ],
   "source": [
    "# 检查df_nas中的publisher和author的空值和非空值数量，以及比例\n",
    "total_publishers = df_all['Publisher'].size\n",
    "total_authors = df_all['Author'].size\n",
    "\n",
    "empty_publishers_count = df_all['Publisher'].isnull().sum()\n",
    "empty_authors_count = df_all['Author'].isnull().sum()\n",
    "\n",
    "non_empty_publishers_count = total_publishers - empty_publishers_count\n",
    "non_empty_authors_count = total_authors - empty_authors_count\n",
    "\n",
    "publisher_ratio = non_empty_publishers_count / total_publishers\n",
    "author_ratio = non_empty_authors_count / total_authors\n",
    "\n",
    "print(f\"Publisher: 空值数量 = {empty_publishers_count}, 非空值数量 = {non_empty_publishers_count}, 比例 = {publisher_ratio:.2%}\")\n",
    "print(f\"Author: 空值数量 = {empty_authors_count}, 非空值数量 = {non_empty_authors_count}, 比例 = {author_ratio:.2%}\")\n"
   ]
  }
 ],
 "metadata": {
  "kernelspec": {
   "display_name": "finnews3",
   "language": "python",
   "name": "python3"
  },
  "language_info": {
   "codemirror_mode": {
    "name": "ipython",
    "version": 3
   },
   "file_extension": ".py",
   "mimetype": "text/x-python",
   "name": "python",
   "nbconvert_exporter": "python",
   "pygments_lexer": "ipython3",
   "version": "3.9.23"
  }
 },
 "nbformat": 4,
 "nbformat_minor": 2
}
