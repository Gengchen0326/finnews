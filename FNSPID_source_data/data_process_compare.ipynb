{
 "cells": [
  {
   "cell_type": "markdown",
   "metadata": {},
   "source": [
    "# Preprocessing Data"
   ]
  },
  {
   "cell_type": "markdown",
   "metadata": {},
   "source": [
    "（修改news的输入）import包和创建路径"
   ]
  },
  {
   "cell_type": "code",
   "execution_count": 55,
   "metadata": {},
   "outputs": [
    {
     "name": "stdout",
     "output_type": "stream",
     "text": [
      "[[ 57.    40.8  185.4   58.8  163.8 ]\n",
      " [ 43.5   30.6  139.5   43.2  123.9 ]\n",
      " [212.   151.6  691.6  226.   612.8 ]\n",
      " [117.    87.6  402.6  156.   355.8 ]\n",
      " [194.25 140.7  641.85 217.2  567.45]]\n"
     ]
    }
   ],
   "source": [
    "import numpy as np\n",
    "\n",
    "Q_2 = np.array([[0.5, 1, 1], [2, 0, 0.2], [3, 2, 0]])\n",
    "K_2 = np.array([[0.1, 0.5, 1], [0.5, 1, 1], [2, 2, 2]])\n",
    "V_2 = np.array([[1, 0.1, 0.3], [0, 3, 0.5], [1, 1, 1]])\n",
    "X = np.array([[0,1,2],[0,2,1],[2,7,5],[6,2,1],[3,4,5]])\n",
    "\n",
    "q = X@Q_2\n",
    "k = X@K_2\n",
    "v = X@V_2\n",
    "s = q@k.T\n",
    "print(s)"
   ]
  },
  {
   "cell_type": "code",
   "execution_count": null,
   "metadata": {},
   "outputs": [],
   "source": [
    "import os\n",
    "import pandas as pd\n",
    "import numpy as np\n",
    "import shutil\n",
    "from sklearn.preprocessing import MinMaxScaler\n",
    "from sklearn.model_selection import train_test_split\n",
    "from keras.models import Sequential\n",
    "from keras.layers import Input, GRU, Dropout, Dense\n",
    "from sklearn.metrics import mean_absolute_error\n",
    "import matplotlib.pyplot as plt\n",
    "\n",
    "script_dir = os.path.dirname(os.path.abspath(__file__)) if '__file__' in globals() else os.getcwd()\n",
    "price_dir = os.path.join(script_dir, 'price')\n",
    "news_dir = os.path.join(script_dir, 'sampled_news') # ‘1years’ to ‘10years’\n",
    "filepath_all = os.path.join(news_dir, 'all_last_1years.csv') # ‘all_last_1years.csv’ to ‘all_last_10years.csv’\n",
    "filepath_nas = os.path.join(news_dir, 'nasdaq_last_1years.csv') # ‘nasdaq_last_1years.csv’ to ‘nasdaq_last_10years.csv’\n",
    "data_dir = os.path.join(script_dir, 'data')"
   ]
  },
  {
   "cell_type": "markdown",
   "metadata": {},
   "source": [
    "## Price"
   ]
  },
  {
   "cell_type": "markdown",
   "metadata": {},
   "source": [
    "（一次性，不用运行）把sp500的所有股票名导出"
   ]
  },
  {
   "cell_type": "code",
   "execution_count": null,
   "metadata": {},
   "outputs": [
    {
     "name": "stdout",
     "output_type": "stream",
     "text": [
      "S&P 500 CSV saved successfully!\n",
      "  Symbol             Security             GICS Sector  \\\n",
      "0    MMM                   3M             Industrials   \n",
      "1    AOS          A. O. Smith             Industrials   \n",
      "2    ABT  Abbott Laboratories             Health Care   \n",
      "3   ABBV               AbbVie             Health Care   \n",
      "4    ACN            Accenture  Information Technology   \n",
      "\n",
      "                GICS Sub-Industry    Headquarters Location  Date added  \\\n",
      "0        Industrial Conglomerates    Saint Paul, Minnesota  1957-03-04   \n",
      "1               Building Products     Milwaukee, Wisconsin  2017-07-26   \n",
      "2           Health Care Equipment  North Chicago, Illinois  1957-03-04   \n",
      "3                   Biotechnology  North Chicago, Illinois  2012-12-31   \n",
      "4  IT Consulting & Other Services          Dublin, Ireland  2011-07-06   \n",
      "\n",
      "       CIK      Founded  \n",
      "0    66740         1902  \n",
      "1    91142         1916  \n",
      "2     1800         1888  \n",
      "3  1551152  2013 (1888)  \n",
      "4  1467373         1989  \n"
     ]
    }
   ],
   "source": [
    "# url = \"https://en.wikipedia.org/wiki/List_of_S%26P_500_companies\"\n",
    "# tables = pd.read_html(url)\n",
    "# sp500_df = tables[0]  # The first table contains the S&P 500 components\n",
    "\n",
    "# # Save to CSV\n",
    "# sp500_df.to_csv(\"sp500.csv\", index=False)\n",
    "# print(\"S&P 500 CSV saved successfully!\")\n",
    "# print(sp500_df.head())"
   ]
  },
  {
   "cell_type": "markdown",
   "metadata": {},
   "source": [
    "读入symbol"
   ]
  },
  {
   "cell_type": "code",
   "execution_count": 34,
   "metadata": {},
   "outputs": [
    {
     "name": "stdout",
     "output_type": "stream",
     "text": [
      "403\n"
     ]
    },
    {
     "name": "stderr",
     "output_type": "stream",
     "text": [
      "/var/folders/5m/6pd0yxf94pdf7130mz5wyfrm0000gn/T/ipykernel_41856/1254663399.py:3: UserWarning: Parsing dates in %d/%m/%Y format when dayfirst=False (the default) was specified. Pass `dayfirst=True` or specify a format to silence this warning.\n",
      "  symbol['Date_added'] = pd.to_datetime(symbol['Date_added'], errors='coerce')\n"
     ]
    }
   ],
   "source": [
    "# 读取标普500数据并筛选2023年前加入的公司\n",
    "symbol = pd.read_csv(os.path.join(script_dir, 'sp500_companies.csv'))\n",
    "symbol['Date_added'] = pd.to_datetime(symbol['Date_added'], errors='coerce')\n",
    "symbol_before_2023 = symbol[symbol['Date_added'] < pd.Timestamp('2018-12-31')]\n",
    "valid_symbols = set(symbol_before_2023['Symbol'].dropna().astype(str))\n",
    "print(len(valid_symbols))"
   ]
  },
  {
   "cell_type": "markdown",
   "metadata": {},
   "source": [
    "（一次性）把筛选数量和10年后的股票price表存到一个文件夹里（435支股票）->stock_price_data_preprocessed"
   ]
  },
  {
   "cell_type": "code",
   "execution_count": 35,
   "metadata": {},
   "outputs": [
    {
     "name": "stdout",
     "output_type": "stream",
     "text": [
      "368\n"
     ]
    }
   ],
   "source": [
    "output_dir = os.path.join(script_dir, 'stock_price_data_preprocessed')\n",
    "os.makedirs(output_dir, exist_ok=True)\n",
    "\n",
    "\n",
    "symbol435 = []\n",
    "\n",
    "# 遍历price目录下的CSV文件\n",
    "for filename in os.listdir(price_dir):\n",
    "    if filename.endswith('.csv'):\n",
    "        symbol_name = filename.replace('.csv', '')\n",
    "        if symbol_name in valid_symbols:\n",
    "            symbol435.append(symbol_name)\n",
    "            file_path = os.path.join(price_dir, filename)\n",
    "            df = pd.read_csv(file_path, parse_dates=['date'])\n",
    "            df = df[df['date'] > pd.Timestamp('2013-12-31')]\n",
    "            if not df.empty:\n",
    "                df = df.rename(columns={'date': 'Date'})\n",
    "                output_file_path = os.path.join(output_dir, filename)\n",
    "                df.to_csv(output_file_path, index=False)\n",
    "\n",
    "print(len(symbol435))\n"
   ]
  },
  {
   "cell_type": "markdown",
   "metadata": {},
   "source": [
    "（只为了小数据集）切成只剩1年的筛选好股票的price文件夹->stock_price_data_preprocessed1"
   ]
  },
  {
   "cell_type": "code",
   "execution_count": 27,
   "metadata": {},
   "outputs": [
    {
     "name": "stderr",
     "output_type": "stream",
     "text": [
      "/var/folders/5m/6pd0yxf94pdf7130mz5wyfrm0000gn/T/ipykernel_1714/2608186390.py:6: UserWarning: Parsing dates in %d/%m/%Y format when dayfirst=False (the default) was specified. Pass `dayfirst=True` or specify a format to silence this warning.\n",
      "  symbol['Date_added'] = pd.to_datetime(symbol['Date_added'], errors='coerce')\n"
     ]
    },
    {
     "name": "stdout",
     "output_type": "stream",
     "text": [
      "435\n"
     ]
    }
   ],
   "source": [
    "output_dir = os.path.join(script_dir, 'stock_price_data_preprocessed1')\n",
    "os.makedirs(output_dir, exist_ok=True)\n",
    "\n",
    "# 读取标普500数据并筛选2023年前加入的公司\n",
    "symbol = pd.read_csv(os.path.join(script_dir, 'sp500_companies.csv'))\n",
    "symbol['Date_added'] = pd.to_datetime(symbol['Date_added'], errors='coerce')\n",
    "symbol_before_2023 = symbol[symbol['Date_added'] < pd.Timestamp('2023-12-31')]\n",
    "valid_symbols = set(symbol_before_2023['Symbol'].dropna().astype(str))\n",
    "symbol1 = []\n",
    "\n",
    "# 遍历price目录下的CSV文件\n",
    "for filename in os.listdir(price_dir):\n",
    "    if filename.endswith('.csv'):\n",
    "        symbol_name = filename.replace('.csv', '')\n",
    "        if symbol_name in valid_symbols:\n",
    "            symbol1.append(symbol_name)\n",
    "            file_path = os.path.join(price_dir, filename)\n",
    "            df = pd.read_csv(file_path, parse_dates=['date'])\n",
    "            df = df[df['date'] > pd.Timestamp('2022-12-31')]\n",
    "            if not df.empty:\n",
    "                df = df.rename(columns={'date': 'Date'})\n",
    "                output_file_path = os.path.join(output_dir, filename)\n",
    "                df.to_csv(output_file_path, index=False)\n",
    "\n",
    "print(len(symbol1))"
   ]
  },
  {
   "cell_type": "markdown",
   "metadata": {},
   "source": [
    "## News"
   ]
  },
  {
   "cell_type": "markdown",
   "metadata": {},
   "source": [
    "读入news数据"
   ]
  },
  {
   "cell_type": "code",
   "execution_count": 3,
   "metadata": {},
   "outputs": [
    {
     "ename": "KeyboardInterrupt",
     "evalue": "",
     "output_type": "error",
     "traceback": [
      "\u001b[0;31m---------------------------------------------------------------------------\u001b[0m",
      "\u001b[0;31mKeyboardInterrupt\u001b[0m                         Traceback (most recent call last)",
      "Cell \u001b[0;32mIn[3], line 3\u001b[0m\n\u001b[1;32m      1\u001b[0m \u001b[38;5;66;03m# 读入news数据\u001b[39;00m\n\u001b[0;32m----> 3\u001b[0m nas \u001b[38;5;241m=\u001b[39m pd\u001b[38;5;241m.\u001b[39mread_csv(filepath_nas, parse_dates\u001b[38;5;241m=\u001b[39m[\u001b[38;5;124m'\u001b[39m\u001b[38;5;124mDate\u001b[39m\u001b[38;5;124m'\u001b[39m])\n\u001b[1;32m      4\u001b[0m nas \u001b[38;5;241m=\u001b[39m nas[nas[\u001b[38;5;124m'\u001b[39m\u001b[38;5;124mStock_symbol\u001b[39m\u001b[38;5;124m'\u001b[39m]\u001b[38;5;241m.\u001b[39misin(symbol_before_2023[\u001b[38;5;124m'\u001b[39m\u001b[38;5;124mSymbol\u001b[39m\u001b[38;5;124m'\u001b[39m])]\n",
      "File \u001b[0;32m/opt/anaconda3/lib/python3.12/site-packages/pandas/io/parsers/readers.py:1026\u001b[0m, in \u001b[0;36mread_csv\u001b[0;34m(filepath_or_buffer, sep, delimiter, header, names, index_col, usecols, dtype, engine, converters, true_values, false_values, skipinitialspace, skiprows, skipfooter, nrows, na_values, keep_default_na, na_filter, verbose, skip_blank_lines, parse_dates, infer_datetime_format, keep_date_col, date_parser, date_format, dayfirst, cache_dates, iterator, chunksize, compression, thousands, decimal, lineterminator, quotechar, quoting, doublequote, escapechar, comment, encoding, encoding_errors, dialect, on_bad_lines, delim_whitespace, low_memory, memory_map, float_precision, storage_options, dtype_backend)\u001b[0m\n\u001b[1;32m   1013\u001b[0m kwds_defaults \u001b[38;5;241m=\u001b[39m _refine_defaults_read(\n\u001b[1;32m   1014\u001b[0m     dialect,\n\u001b[1;32m   1015\u001b[0m     delimiter,\n\u001b[0;32m   (...)\u001b[0m\n\u001b[1;32m   1022\u001b[0m     dtype_backend\u001b[38;5;241m=\u001b[39mdtype_backend,\n\u001b[1;32m   1023\u001b[0m )\n\u001b[1;32m   1024\u001b[0m kwds\u001b[38;5;241m.\u001b[39mupdate(kwds_defaults)\n\u001b[0;32m-> 1026\u001b[0m \u001b[38;5;28;01mreturn\u001b[39;00m _read(filepath_or_buffer, kwds)\n",
      "File \u001b[0;32m/opt/anaconda3/lib/python3.12/site-packages/pandas/io/parsers/readers.py:626\u001b[0m, in \u001b[0;36m_read\u001b[0;34m(filepath_or_buffer, kwds)\u001b[0m\n\u001b[1;32m    623\u001b[0m     \u001b[38;5;28;01mreturn\u001b[39;00m parser\n\u001b[1;32m    625\u001b[0m \u001b[38;5;28;01mwith\u001b[39;00m parser:\n\u001b[0;32m--> 626\u001b[0m     \u001b[38;5;28;01mreturn\u001b[39;00m parser\u001b[38;5;241m.\u001b[39mread(nrows)\n",
      "File \u001b[0;32m/opt/anaconda3/lib/python3.12/site-packages/pandas/io/parsers/readers.py:1923\u001b[0m, in \u001b[0;36mTextFileReader.read\u001b[0;34m(self, nrows)\u001b[0m\n\u001b[1;32m   1916\u001b[0m nrows \u001b[38;5;241m=\u001b[39m validate_integer(\u001b[38;5;124m\"\u001b[39m\u001b[38;5;124mnrows\u001b[39m\u001b[38;5;124m\"\u001b[39m, nrows)\n\u001b[1;32m   1917\u001b[0m \u001b[38;5;28;01mtry\u001b[39;00m:\n\u001b[1;32m   1918\u001b[0m     \u001b[38;5;66;03m# error: \"ParserBase\" has no attribute \"read\"\u001b[39;00m\n\u001b[1;32m   1919\u001b[0m     (\n\u001b[1;32m   1920\u001b[0m         index,\n\u001b[1;32m   1921\u001b[0m         columns,\n\u001b[1;32m   1922\u001b[0m         col_dict,\n\u001b[0;32m-> 1923\u001b[0m     ) \u001b[38;5;241m=\u001b[39m \u001b[38;5;28mself\u001b[39m\u001b[38;5;241m.\u001b[39m_engine\u001b[38;5;241m.\u001b[39mread(  \u001b[38;5;66;03m# type: ignore[attr-defined]\u001b[39;00m\n\u001b[1;32m   1924\u001b[0m         nrows\n\u001b[1;32m   1925\u001b[0m     )\n\u001b[1;32m   1926\u001b[0m \u001b[38;5;28;01mexcept\u001b[39;00m \u001b[38;5;167;01mException\u001b[39;00m:\n\u001b[1;32m   1927\u001b[0m     \u001b[38;5;28mself\u001b[39m\u001b[38;5;241m.\u001b[39mclose()\n",
      "File \u001b[0;32m/opt/anaconda3/lib/python3.12/site-packages/pandas/io/parsers/c_parser_wrapper.py:234\u001b[0m, in \u001b[0;36mCParserWrapper.read\u001b[0;34m(self, nrows)\u001b[0m\n\u001b[1;32m    232\u001b[0m \u001b[38;5;28;01mtry\u001b[39;00m:\n\u001b[1;32m    233\u001b[0m     \u001b[38;5;28;01mif\u001b[39;00m \u001b[38;5;28mself\u001b[39m\u001b[38;5;241m.\u001b[39mlow_memory:\n\u001b[0;32m--> 234\u001b[0m         chunks \u001b[38;5;241m=\u001b[39m \u001b[38;5;28mself\u001b[39m\u001b[38;5;241m.\u001b[39m_reader\u001b[38;5;241m.\u001b[39mread_low_memory(nrows)\n\u001b[1;32m    235\u001b[0m         \u001b[38;5;66;03m# destructive to chunks\u001b[39;00m\n\u001b[1;32m    236\u001b[0m         data \u001b[38;5;241m=\u001b[39m _concatenate_chunks(chunks)\n",
      "File \u001b[0;32mparsers.pyx:838\u001b[0m, in \u001b[0;36mpandas._libs.parsers.TextReader.read_low_memory\u001b[0;34m()\u001b[0m\n",
      "File \u001b[0;32mparsers.pyx:905\u001b[0m, in \u001b[0;36mpandas._libs.parsers.TextReader._read_rows\u001b[0;34m()\u001b[0m\n",
      "File \u001b[0;32mparsers.pyx:874\u001b[0m, in \u001b[0;36mpandas._libs.parsers.TextReader._tokenize_rows\u001b[0;34m()\u001b[0m\n",
      "File \u001b[0;32mparsers.pyx:891\u001b[0m, in \u001b[0;36mpandas._libs.parsers.TextReader._check_tokenize_status\u001b[0;34m()\u001b[0m\n",
      "File \u001b[0;32mparsers.pyx:2053\u001b[0m, in \u001b[0;36mpandas._libs.parsers.raise_parser_error\u001b[0;34m()\u001b[0m\n",
      "File \u001b[0;32m<frozen codecs>:331\u001b[0m, in \u001b[0;36mgetstate\u001b[0;34m(self)\u001b[0m\n",
      "\u001b[0;31mKeyboardInterrupt\u001b[0m: "
     ]
    }
   ],
   "source": [
    "# 读入news数据\n",
    "\n",
    "nas = pd.read_csv(filepath_nas, parse_dates=['Date'])\n",
    "nas = nas[nas['Stock_symbol'].isin(symbol_before_2023['Symbol'])]\n",
    "#nas.to_csv('news_321.csv', index=False)\n",
    "\n",
    "# chunk_size = 100\n",
    "# for chunk in pd.read_csv(filepath_nas, chunksize=chunk_size):\n",
    "#     nas_1 = chunk\n",
    "#     break\n"
   ]
  },
  {
   "cell_type": "code",
   "execution_count": 16,
   "metadata": {},
   "outputs": [
    {
     "name": "stdout",
     "output_type": "stream",
     "text": [
      "153942\n"
     ]
    }
   ],
   "source": [
    "print(len(nas))\n",
    "#153942"
   ]
  },
  {
   "cell_type": "markdown",
   "metadata": {},
   "source": [
    "（只在小数据集，不用管）把1年切成2023年"
   ]
  },
  {
   "cell_type": "code",
   "execution_count": 8,
   "metadata": {},
   "outputs": [],
   "source": [
    "nas = nas[nas['Date'].dt.year == 2023].copy()\n",
    "nas.to_csv('news_1y.csv', index=False)"
   ]
  },
  {
   "cell_type": "markdown",
   "metadata": {},
   "source": [
    "把情绪分析前的news表拆成不同股票的csv，但已经命名为sentiment，下一步就可以直接在原表基础上加一列情绪评分列"
   ]
  },
  {
   "cell_type": "code",
   "execution_count": null,
   "metadata": {},
   "outputs": [],
   "source": [
    "out_dir = os.path.join(script_dir, 'news_data')\n",
    "os.makedirs(out_dir, exist_ok=True)\n",
    "newscount = []\n",
    "# 按照 Stock_symbol 分组并保存为独立的CSV文件\n",
    "for stock_symbol, group_df in nas.groupby('Stock_symbol'):\n",
    "    if pd.notna(stock_symbol) and str(stock_symbol).strip() != \"\":\n",
    "        newscount.append(stock_symbol)\n",
    "        filename = f\"{stock_symbol}.csv\"\n",
    "        output_path = os.path.join(out_dir, filename)\n",
    "        group_df.to_csv(output_path, index=False)\n",
    "\n",
    "print(len(newscount))\n",
    "#358"
   ]
  },
  {
   "cell_type": "markdown",
   "metadata": {},
   "source": [
    "### Sentiment Analysis\n",
    "\n",
    "暂时用nas里的summary做，因为all里article和summary很多空值。文章里最后用了Lsa summarizer"
   ]
  },
  {
   "cell_type": "code",
   "execution_count": 7,
   "metadata": {},
   "outputs": [
    {
     "name": "stdout",
     "output_type": "stream",
     "text": [
      "15394\n",
      "15393\n"
     ]
    }
   ],
   "source": [
    "# 从整表中抽取10%\n",
    "chunk_size = 15394 # 0.1 * len(nas)\n",
    "for chunk in pd.read_csv(filepath_nas, chunksize=chunk_size):\n",
    "    nas_1 = chunk\n",
    "    break\n",
    "print(len(nas_1))\n",
    "nas_1 = nas_1.dropna(subset=['Lsa_summary', 'Stock_symbol']).reset_index(drop=True)\n",
    "print(len(nas_1))\n",
    "nas_1.to_csv('news_for_compare.csv', index=False)"
   ]
  },
  {
   "cell_type": "markdown",
   "metadata": {},
   "source": [
    "#### chatgpt"
   ]
  },
  {
   "cell_type": "markdown",
   "metadata": {},
   "source": [
    "用整表的形式nas_1"
   ]
  },
  {
   "cell_type": "code",
   "execution_count": 4,
   "metadata": {},
   "outputs": [],
   "source": [
    "nas_1 = pd.read_csv('news_for_compare.csv')"
   ]
  },
  {
   "cell_type": "code",
   "execution_count": null,
   "metadata": {},
   "outputs": [
    {
     "name": "stderr",
     "output_type": "stream",
     "text": [
      "Analyzing sentiment: 100%|██████████| 15393/15393 [8:35:36<00:00,  2.01s/it]   \n"
     ]
    },
    {
     "name": "stdout",
     "output_type": "stream",
     "text": [
      "✅ Sentiment analysis complete.\n"
     ]
    }
   ],
   "source": [
    "from langchain_openai import ChatOpenAI\n",
    "from langchain.schema import HumanMessage\n",
    "from tqdm import tqdm\n",
    "import time\n",
    "\n",
    "\n",
    "\n",
    "llm = ChatOpenAI(\n",
    "    model=\"gpt-4o-mini\",\n",
    "    base_url='https://xiaoai.plus/v1',\n",
    "    api_key='sk-MhK3dy9voyfVSwEqvV9PQwEkeOVRReh03Vhd9lO8OSCKJsNm'\n",
    ")\n",
    "\n",
    "def get_stock_sentiment(summary, stock_symbol):\n",
    "    try:\n",
    "        prompt = (\n",
    "            f\"Please analyze the sentiment of the following news towards the stock {stock_symbol}. \"\n",
    "            f\"Return only one of the following numbers: 1 (positive), 0 (neutral), or -1 (negative). \"\n",
    "            f\"Example1: News text: Tesla shares plummeted 12% after missing quarterly deliveries and facing regulatory scrutiny over safety concerns.; Sentiment Score: -1\"\n",
    "            f\"Example2: News text:JPMorgan Chase maintained steady performance this quarter, with profits remaining flat compared to the previous period.; Sentiment Score: 0\"\n",
    "            f\"News: {summary}\"\n",
    "        )\n",
    "        response = llm.invoke([HumanMessage(content=prompt)])\n",
    "        cleaned = response.content.strip()\n",
    "        if cleaned not in {\"1\", \"0\", \"-1\"}:\n",
    "            return \"Error\"\n",
    "        return int(cleaned)\n",
    "    except Exception as e:\n",
    "        print(f\"Error processing: {summary[:30]}... => {e}\")\n",
    "        return \"Error\"\n",
    "\n",
    "\n",
    "# === 应用情绪分析，带进度条 + 限速 ===\n",
    "sentiments = []\n",
    "for _, row in tqdm(nas_1.iterrows(), total=len(nas_1), desc=\"Analyzing sentiment\"):\n",
    "    sentiment = get_stock_sentiment(row['Lsa_summary'], row['Stock_symbol'])\n",
    "    sentiments.append(sentiment)\n",
    "    time.sleep(1)  # 控制请求频率，避免触发限流\n",
    "\n",
    "nas_1['Sentiment'] = sentiments\n",
    "\n",
    "# === 保存结果 ===\n",
    "output_dir = os.path.join(script_dir, 'gpt_for_compare')\n",
    "nas_1.to_csv(output_dir, index=False)\n",
    "print(\"✅ Sentiment analysis complete.\")"
   ]
  },
  {
   "cell_type": "code",
   "execution_count": 6,
   "metadata": {},
   "outputs": [],
   "source": [
    "output_dir = os.path.join(script_dir, 'gpt_for_compare.csv')\n",
    "nas_1.to_csv(output_dir, index=False)"
   ]
  },
  {
   "cell_type": "markdown",
   "metadata": {},
   "source": [
    "用文件夹的形式每个股票是一个csv"
   ]
  },
  {
   "cell_type": "code",
   "execution_count": 3,
   "metadata": {},
   "outputs": [
    {
     "name": "stderr",
     "output_type": "stream",
     "text": [
      "Analyzing UAL.csv:   5%|▌         | 49/931 [01:56<34:51,  2.37s/it]\n"
     ]
    },
    {
     "ename": "KeyboardInterrupt",
     "evalue": "",
     "output_type": "error",
     "traceback": [
      "\u001b[0;31m---------------------------------------------------------------------------\u001b[0m",
      "\u001b[0;31mKeyboardInterrupt\u001b[0m                         Traceback (most recent call last)",
      "Cell \u001b[0;32mIn[3], line 46\u001b[0m\n\u001b[1;32m     44\u001b[0m     sentiment \u001b[38;5;241m=\u001b[39m get_stock_sentiment(row[\u001b[38;5;124m'\u001b[39m\u001b[38;5;124mLsa_summary\u001b[39m\u001b[38;5;124m'\u001b[39m], row[\u001b[38;5;124m'\u001b[39m\u001b[38;5;124mStock_symbol\u001b[39m\u001b[38;5;124m'\u001b[39m])\n\u001b[1;32m     45\u001b[0m     sentiments\u001b[38;5;241m.\u001b[39mappend(sentiment)\n\u001b[0;32m---> 46\u001b[0m     time\u001b[38;5;241m.\u001b[39msleep(\u001b[38;5;241m1\u001b[39m)  \u001b[38;5;66;03m# 避免触发限流\u001b[39;00m\n\u001b[1;32m     48\u001b[0m df[\u001b[38;5;124m'\u001b[39m\u001b[38;5;124mSentiment\u001b[39m\u001b[38;5;124m'\u001b[39m] \u001b[38;5;241m=\u001b[39m sentiments\n\u001b[1;32m     50\u001b[0m output_path \u001b[38;5;241m=\u001b[39m os\u001b[38;5;241m.\u001b[39mpath\u001b[38;5;241m.\u001b[39mjoin(output_dir, \u001b[38;5;124mf\u001b[39m\u001b[38;5;124m'\u001b[39m\u001b[38;5;124mscored_\u001b[39m\u001b[38;5;132;01m{\u001b[39;00mfile_name\u001b[38;5;132;01m}\u001b[39;00m\u001b[38;5;124m'\u001b[39m)\n",
      "\u001b[0;31mKeyboardInterrupt\u001b[0m: "
     ]
    }
   ],
   "source": [
    "from langchain_openai import ChatOpenAI\n",
    "from langchain.schema import HumanMessage\n",
    "from tqdm import tqdm\n",
    "import time\n",
    "news_dir = os.path.join(script_dir, 'news_data')\n",
    "output_dir = os.path.join(script_dir, 'sentiment_scored_gpt')\n",
    "\n",
    "os.makedirs(output_dir, exist_ok=True)\n",
    "\n",
    "# 收集所有 CSV 文件\n",
    "csv_files = [f for f in os.listdir(news_dir) if f.endswith('.csv')]\n",
    "\n",
    "# 初始化 GPT 接口\n",
    "llm = ChatOpenAI(\n",
    "    model=\"gpt-4o-mini\",\n",
    "    base_url='https://xiaoai.plus/v1',\n",
    "    api_key='sk-MhK3dy9voyfVSwEqvV9PQwEkeOVRReh03Vhd9lO8OSCKJsNm'\n",
    ")\n",
    "\n",
    "# 情绪分析函数\n",
    "def get_stock_sentiment(summary, stock_symbol):\n",
    "    try:\n",
    "        prompt = (\n",
    "            f\"Please analyze the sentiment of the following news towards the stock {stock_symbol}. \"\n",
    "            f\"Return only one of the following numbers: 1 (positive), 0 (neutral), or -1 (negative). \"\n",
    "            f\"News: {summary}\"\n",
    "        )\n",
    "        response = llm.invoke([HumanMessage(content=prompt)])\n",
    "        cleaned = response.content.strip()\n",
    "        if cleaned not in {\"1\", \"0\", \"-1\"}:\n",
    "            return \"Error\"\n",
    "        return int(cleaned)\n",
    "    except Exception as e:\n",
    "        print(f\"Error processing: {summary[:30]}... => {e}\")\n",
    "        return \"Error\"\n",
    "\n",
    "# 遍历处理每个文件\n",
    "for file_name in csv_files:\n",
    "    file_path = os.path.join(news_dir, file_name)\n",
    "    df = pd.read_csv(file_path)\n",
    "\n",
    "    sentiments = []\n",
    "    for _, row in tqdm(df.iterrows(), total=len(df), desc=f\"Analyzing {file_name}\"):\n",
    "        sentiment = get_stock_sentiment(row['Lsa_summary'], row['Stock_symbol'])\n",
    "        sentiments.append(sentiment)\n",
    "        time.sleep(1)  # 避免触发限流\n",
    "\n",
    "    df['Sentiment'] = sentiments\n",
    "\n",
    "    output_path = os.path.join(output_dir, f'scored_{file_name}')\n",
    "    df.to_csv(output_path, index=False)\n",
    "    print(f\"✅ {file_name} processed and saved to {output_path}\")\n",
    "    break"
   ]
  },
  {
   "cell_type": "markdown",
   "metadata": {},
   "source": [
    "#### finbert（还没改）"
   ]
  },
  {
   "cell_type": "code",
   "execution_count": 10,
   "metadata": {},
   "outputs": [
    {
     "name": "stderr",
     "output_type": "stream",
     "text": [
      "Device set to use mps:0\n",
      "Analyzing sentiment: 100%|██████████| 15393/15393 [10:45<00:00, 23.83it/s]\n"
     ]
    },
    {
     "name": "stdout",
     "output_type": "stream",
     "text": [
      "✅ Sentiment analysis complete.\n"
     ]
    }
   ],
   "source": [
    "from transformers import BertTokenizer, BertForSequenceClassification\n",
    "from transformers import pipeline\n",
    "import pandas as pd\n",
    "from tqdm import tqdm\n",
    "import os\n",
    "import torch\n",
    "\n",
    "\n",
    "\n",
    "# 加载FinBERT模型和tokenizer\n",
    "finbert = BertForSequenceClassification.from_pretrained('yiyanghkust/finbert-tone', num_labels=3)\n",
    "tokenizer = BertTokenizer.from_pretrained('yiyanghkust/finbert-tone')\n",
    "\n",
    "# 创建情感分析pipeline\n",
    "nlp = pipeline(\"text-classification\", model=finbert, tokenizer=tokenizer)\n",
    "\n",
    "# 读取数据\n",
    "#nas_1 = pd.read_csv('news_for_compare.csv')\n",
    "\n",
    "def truncate_text(text, max_length=500):\n",
    "    \"\"\"将文本截断到最大长度\"\"\"\n",
    "    return text[:max_length] if len(text) > max_length else text\n",
    "\n",
    "def get_stock_sentiment(summary, stock_symbol):\n",
    "    try:\n",
    "        # 截断文本以避免长度问题\n",
    "        truncated_text = truncate_text(summary)\n",
    "        \n",
    "        # 使用FinBERT进行情感分析\n",
    "        result = nlp(truncated_text)[0]\n",
    "        \n",
    "        # 将FinBERT的输出映射到1, 0, -1\n",
    "        label_map = {\n",
    "            'Positive': 1,\n",
    "            'Neutral': 0,\n",
    "            'Negative': -1\n",
    "        }\n",
    "        \n",
    "        return label_map.get(result['label'], \"Error\")\n",
    "    except Exception as e:\n",
    "        print(f\"Error processing: {summary[:30]}... => {e}\")\n",
    "        return \"Error\"\n",
    "\n",
    "# 应用情绪分析，带进度条\n",
    "sentiments = []\n",
    "for _, row in tqdm(nas_1.iterrows(), total=len(nas_1), desc=\"Analyzing sentiment\"):\n",
    "    sentiment = get_stock_sentiment(row['Lsa_summary'], row['Stock_symbol'])\n",
    "    sentiments.append(sentiment)\n",
    "\n",
    "nas_1['Sentiment'] = sentiments\n",
    "\n",
    "# 保存结果\n",
    "output_dir = os.path.join(script_dir, 'finbert_for_compare.csv')\n",
    "nas_1.to_csv(output_dir, index=False)\n",
    "print(\"✅ Sentiment analysis complete.\")"
   ]
  },
  {
   "cell_type": "code",
   "execution_count": 11,
   "metadata": {},
   "outputs": [
    {
     "name": "stdout",
     "output_type": "stream",
     "text": [
      "15393\n"
     ]
    }
   ],
   "source": [
    "print(len(nas_1['Sentiment']))"
   ]
  },
  {
   "cell_type": "markdown",
   "metadata": {},
   "source": [
    "#### vader"
   ]
  },
  {
   "cell_type": "code",
   "execution_count": 12,
   "metadata": {},
   "outputs": [
    {
     "name": "stderr",
     "output_type": "stream",
     "text": [
      "Analyzing sentiment: 100%|██████████| 15393/15393 [00:05<00:00, 2813.84it/s]\n"
     ]
    },
    {
     "name": "stdout",
     "output_type": "stream",
     "text": [
      "✅ VADER sentiment analysis complete.\n"
     ]
    }
   ],
   "source": [
    "from vaderSentiment.vaderSentiment import SentimentIntensityAnalyzer\n",
    "import pandas as pd\n",
    "from tqdm import tqdm\n",
    "import os\n",
    "\n",
    "\n",
    "# 初始化VADER分析器\n",
    "analyzer = SentimentIntensityAnalyzer()\n",
    "\n",
    "# 读取数据\n",
    "#nas_1 = pd.read_csv('news_for_compare.csv')\n",
    "\n",
    "def get_stock_sentiment(summary, stock_symbol):\n",
    "    try:\n",
    "        # 获取情感分数\n",
    "        scores = analyzer.polarity_scores(summary)\n",
    "        \n",
    "        # 根据compound分数判断情感\n",
    "        if scores['compound'] >= 0.05:\n",
    "            return 1  # Positive\n",
    "        elif scores['compound'] <= -0.05:\n",
    "            return -1  # Negative\n",
    "        else:\n",
    "            return 0  # Neutral\n",
    "    except Exception as e:\n",
    "        print(f\"Error processing: {summary[:30]}... => {e}\")\n",
    "        return \"Error\"\n",
    "\n",
    "# 应用情绪分析，带进度条\n",
    "sentiments = []\n",
    "for _, row in tqdm(nas_1.iterrows(), total=len(nas_1), desc=\"Analyzing sentiment\"):\n",
    "    sentiment = get_stock_sentiment(row['Lsa_summary'], row['Stock_symbol'])\n",
    "    sentiments.append(sentiment)\n",
    "\n",
    "nas_1['Sentiment'] = sentiments\n",
    "\n",
    "# 保存结果\n",
    "output_dir = os.path.join(script_dir, 'vader_for_compare.csv')\n",
    "nas_1.to_csv(output_dir, index=False)\n",
    "print(\"✅ VADER sentiment analysis complete.\")"
   ]
  },
  {
   "cell_type": "markdown",
   "metadata": {},
   "source": [
    "#### textblob（还没改）"
   ]
  },
  {
   "cell_type": "code",
   "execution_count": 13,
   "metadata": {},
   "outputs": [
    {
     "name": "stderr",
     "output_type": "stream",
     "text": [
      "Analyzing sentiment: 100%|██████████| 15393/15393 [00:07<00:00, 1969.02it/s]\n"
     ]
    },
    {
     "name": "stdout",
     "output_type": "stream",
     "text": [
      "✅ TextBlob sentiment analysis complete.\n"
     ]
    }
   ],
   "source": [
    "from textblob import TextBlob\n",
    "import pandas as pd\n",
    "from tqdm import tqdm\n",
    "import os\n",
    "\n",
    "\n",
    "\n",
    "def get_stock_sentiment(summary, stock_symbol):\n",
    "    try:\n",
    "        # 使用TextBlob进行情感分析\n",
    "        analysis = TextBlob(summary)\n",
    "        \n",
    "        # 获取情感极性（polarity），范围在[-1, 1]之间\n",
    "        polarity = analysis.sentiment.polarity\n",
    "        \n",
    "        # 根据polarity判断情感类别\n",
    "        if polarity > 0:\n",
    "            return 1  # Positive\n",
    "        elif polarity < 0:\n",
    "            return -1  # Negative\n",
    "        else:\n",
    "            return 0  # Neutral\n",
    "    except Exception as e:\n",
    "        print(f\"Error processing: {summary[:30]}... => {e}\")\n",
    "        return \"Error\"\n",
    "\n",
    "# 应用情绪分析，带进度条\n",
    "sentiments = []\n",
    "for _, row in tqdm(nas_1.iterrows(), total=len(nas_1), desc=\"Analyzing sentiment\"):\n",
    "    sentiment = get_stock_sentiment(row['Lsa_summary'], row['Stock_symbol'])\n",
    "    sentiments.append(sentiment)\n",
    "\n",
    "nas_1['Sentiment'] = sentiments\n",
    "\n",
    "# 保存结果\n",
    "output_dir = os.path.join(script_dir, 'textblob_for_compare.csv')\n",
    "nas_1.to_csv(output_dir, index=False)\n",
    "print(\"✅ TextBlob sentiment analysis complete.\")"
   ]
  },
  {
   "cell_type": "markdown",
   "metadata": {},
   "source": [
    "compare other approaches to gpt"
   ]
  },
  {
   "cell_type": "code",
   "execution_count": 1,
   "metadata": {},
   "outputs": [
    {
     "name": "stdout",
     "output_type": "stream",
     "text": [
      "   Unnamed: 0                       Date  \\\n",
      "0         0.0  2023-12-16 23:00:00+00:00   \n",
      "1         1.0  2023-12-12 00:00:00+00:00   \n",
      "2         2.0  2023-12-12 00:00:00+00:00   \n",
      "3         3.0  2023-12-07 00:00:00+00:00   \n",
      "4         4.0  2023-12-07 00:00:00+00:00   \n",
      "\n",
      "                                       Article_title Stock_symbol  \\\n",
      "0  Interesting A Put And Call Options For August ...            A   \n",
      "1  Wolfe Research Initiates Coverage of Agilent T...            A   \n",
      "2  Agilent Technologies Reaches Analyst Target Price            A   \n",
      "3  Agilent (A) Enhances BioTek Cytation C10 With ...            A   \n",
      "4  Pre-Market Most Active for Dec 7, 2023 : SQQQ,...            A   \n",
      "\n",
      "                                                 Url  Publisher  Author  \\\n",
      "0  https://www.nasdaq.com/articles/interesting-a-...        NaN     NaN   \n",
      "1  https://www.nasdaq.com/articles/wolfe-research...        NaN     NaN   \n",
      "2  https://www.nasdaq.com/articles/agilent-techno...        NaN     NaN   \n",
      "3  https://www.nasdaq.com/articles/agilent-a-enha...        NaN     NaN   \n",
      "4  https://www.nasdaq.com/articles/pre-market-mos...        NaN     NaN   \n",
      "\n",
      "                                             Article  \\\n",
      "0  Investors in Agilent Technologies, Inc. (Symbo...   \n",
      "1  Fintel reports that on December 13, 2023, Wolf...   \n",
      "2  In recent trading, shares of Agilent Technolog...   \n",
      "3  Agilent Technologies A is enhancing its BioTek...   \n",
      "4  The NASDAQ 100 Pre-Market Indicator is up 70.2...   \n",
      "\n",
      "                                         Lsa_summary  \\\n",
      "0  Because the $125.00 strike represents an appro...   \n",
      "1  Fintel reports that on December 13, 2023, Wolf...   \n",
      "2  In recent trading, shares of Agilent Technolog...   \n",
      "3  Per a Grand View Research report, the global m...   \n",
      "4  ProShares UltraPro Short QQQ (SQQQ) is -0.15 a...   \n",
      "\n",
      "                                        Luhn_summary  \\\n",
      "0  The current analytical data (including greeks ...   \n",
      "1  T. Rowe Price Investment Management holds 10,1...   \n",
      "2  In recent trading, shares of Agilent Technolog...   \n",
      "3  Notably, Agilent enhanced the BioTek Cytation ...   \n",
      "4  As reported by Zacks, the current mean recomme...   \n",
      "\n",
      "                                    Textrank_summary  \\\n",
      "0  Below is a chart showing the trailing twelve m...   \n",
      "1  Agilent Technologies Declares $0.24 Dividend O...   \n",
      "2  When a stock reaches the target an analyst has...   \n",
      "3  Agilent Technologies, Inc. Price and Consensus...   \n",
      "4  The total Pre-Market volume is currently 39,23...   \n",
      "\n",
      "                                     Lexrank_summary gpt_sentiment  \\\n",
      "0  At Stock Options Channel, our YieldBoost formu...             0   \n",
      "1  The projected annual revenue for Agilent Techn...             1   \n",
      "2  When a stock reaches the target an analyst has...             1   \n",
      "3  Notably, Agilent enhanced the BioTek Cytation ...             0   \n",
      "4  The NASDAQ 100 Pre-Market Indicator is up 70.2...             1   \n",
      "\n",
      "   vader_sentiment  textblob_sentiment  finbert_sentiment  \n",
      "0               -1                  -1                  0  \n",
      "1                1                   1                  1  \n",
      "2                1                   1                  1  \n",
      "3                1                   1                  1  \n",
      "4                1                   0                  0  \n"
     ]
    }
   ],
   "source": [
    "import os\n",
    "import pandas as pd\n",
    "import numpy as np\n",
    "\n",
    "gpt = pd.read_csv('gpt_for_compare.csv')\n",
    "vader = pd.read_csv('vader_for_compare.csv')\n",
    "textblob = pd.read_csv('textblob_for_compare.csv')\n",
    "finbert = pd.read_csv('finbert_for_compare.csv')\n",
    "\n",
    "vader = vader.rename(columns={'Sentiment': 'vader_sentiment'})\n",
    "textblob = textblob.rename(columns={'Sentiment': 'textblob_sentiment'})\n",
    "finbert = finbert.rename(columns={'Sentiment': 'finbert_sentiment'})\n",
    "gpt = gpt.rename(columns={'Sentiment': 'gpt_sentiment'})\n",
    "\n",
    "# # 3. 只保留需要的列（假设所有表都有Stock_symbol和Lsa_summary作为关键列）\n",
    "compare = gpt\n",
    "compare['vader_sentiment'] = vader['vader_sentiment']\n",
    "compare['textblob_sentiment'] = textblob['textblob_sentiment']\n",
    "compare['finbert_sentiment'] = finbert['finbert_sentiment']\n",
    "\n",
    "print(compare.head())\n"
   ]
  },
  {
   "cell_type": "code",
   "execution_count": 49,
   "metadata": {},
   "outputs": [
    {
     "name": "stdout",
     "output_type": "stream",
     "text": [
      "\n",
      "Error Counts (2):\n",
      "gpt_sentiment         45\n",
      "vader_sentiment        0\n",
      "textblob_sentiment     0\n",
      "finbert_sentiment      0\n",
      "Name: 2, dtype: int64\n"
     ]
    },
    {
     "data": {
      "image/png": "[encoded data removed]",
      "text/plain": [
       "<Figure size 1400x700 with 1 Axes>"
      ]
     },
     "metadata": {},
     "output_type": "display_data"
    }
   ],
   "source": [
    "import pandas as pd\n",
    "import matplotlib.pyplot as plt\n",
    "import numpy as np\n",
    "\n",
    "# 假设这是你的数据\n",
    "columns_to_compare = ['gpt_sentiment', 'vader_sentiment', 'textblob_sentiment', 'finbert_sentiment']\n",
    "\n",
    "# 1. 数据处理\n",
    "for col in columns_to_compare:\n",
    "    compare[col] = compare[col].replace('Error', 2)  # 替换Error为2\n",
    "    compare[col] = pd.to_numeric(compare[col], errors='coerce').fillna(2).astype(int)\n",
    "\n",
    "# 2. 计算绝对数量和百分比\n",
    "counts = {}\n",
    "percentages = {}\n",
    "\n",
    "for col in columns_to_compare:\n",
    "    # 计算绝对数量（包含2/Error，但我们只关心-1,0,1）\n",
    "    count_series = compare[col].value_counts().reindex([-1, 0, 1, 2], fill_value=0)\n",
    "    counts[col] = count_series\n",
    "    \n",
    "    # 计算百分比（排除Error/2）\n",
    "    total = count_series[-1] + count_series[0] + count_series[1]  # 只计算-1,0,1的总和\n",
    "    percentages[col] = count_series / total * 100 if total > 0 else pd.Series([0,0,0], index=[-1,0,1])\n",
    "\n",
    "# 3. 准备绘图数据（转置数据框，使分析方法为行，情绪值为列）\n",
    "counts_df = pd.DataFrame(counts).loc[[-1, 0, 1]].T  # 转置数据框\n",
    "percent_df = pd.DataFrame(percentages).loc[[-1, 0, 1]].T  # 转置数据框\n",
    "\n",
    "# 4. 绘制条形图（分组条形图）\n",
    "plt.figure(figsize=(14, 7))\n",
    "plt.subplots_adjust(left=0.05, right=0.95)\n",
    "\n",
    "# 设置每个组的宽度和位置\n",
    "bar_width = 0.25\n",
    "index = np.arange(len(columns_to_compare))\n",
    "\n",
    "# 为每种情绪值绘制条形\n",
    "colors = ['#92c5de', '#4393c3', '#2166ac']  # 红(-1),黄(0),绿(1)\n",
    "sentiments = [-1, 0, 1]\n",
    "labels = ['Negative (-1)', 'Neutral (0)', 'Positive (1)']\n",
    "\n",
    "for i, sentiment in enumerate(sentiments):\n",
    "    ax = plt.bar(index + i*bar_width, counts_df[sentiment], bar_width,\n",
    "                label=labels[i], color=colors[i], edgecolor='none')\n",
    "\n",
    "# 5. 添加数值标签（百分比）\n",
    "for i, model in enumerate(counts_df.index):\n",
    "    for j, sentiment in enumerate(sentiments):\n",
    "        height = counts_df.loc[model, sentiment]\n",
    "        pct = percent_df.loc[model, sentiment]\n",
    "        if height > 0:  # 只显示有值的标签\n",
    "            plt.text(i + j*bar_width, height + 0.02*counts_df.max().max(),\n",
    "                    f\"{pct:.1f}%\",\n",
    "                    ha='center', va='bottom', fontsize=8)\n",
    "\n",
    "# 6. 图表美化\n",
    "plt.title('Sentiment Analysis Comparison', fontsize=16, pad=20)\n",
    "plt.xlabel('Analysis Method', fontsize=12)\n",
    "plt.ylabel('Count', fontsize=12)\n",
    "plt.xticks(index + bar_width, columns_to_compare)\n",
    "plt.legend(title='Sentiment', loc='upper center', bbox_to_anchor=(0.5, -0.15), ncol=3)\n",
    "plt.grid(axis='y', linestyle='--', alpha=0.3)\n",
    "plt.ylim(0, counts_df.max().max() * 1.2)  # 为标签留出空间\n",
    "\n",
    "# 7. 打印Error统计\n",
    "error_counts = pd.DataFrame(counts).loc[2]\n",
    "print(\"\\nError Counts (2):\")\n",
    "print(error_counts)\n",
    "\n",
    "plt.tight_layout()\n",
    "plt.show()"
   ]
  },
  {
   "cell_type": "markdown",
   "metadata": {},
   "source": []
  },
  {
   "cell_type": "code",
   "execution_count": 6,
   "metadata": {},
   "outputs": [
    {
     "name": "stdout",
     "output_type": "stream",
     "text": [
      "\n",
      "各方法与GPT情绪的差异分析:\n",
      "          absolute_difference_mean  mean_squared_error\n",
      "vader                     0.633177            0.811441\n",
      "textblob                  0.820302            1.155981\n",
      "finbert                   0.447941            0.524433\n"
     ]
    }
   ],
   "source": [
    "results = {}\n",
    "methods = ['vader', 'textblob', 'finbert']\n",
    "\n",
    "for col in ['gpt_sentiment', 'vader_sentiment', 'textblob_sentiment', 'finbert_sentiment']:\n",
    "    if col in compare.columns:\n",
    "        # 将列转换为数值类型，无法转换的设为NaN\n",
    "        compare[col] = pd.to_numeric(compare[col], errors='coerce')\n",
    "        \n",
    "        # 将\"Error\"等字符串标记转换为NaN（如果存在）\n",
    "        compare[col] = compare[col].replace('Error', np.nan)\n",
    "                                            \n",
    "for method in methods:\n",
    "    col = f'{method}_sentiment'\n",
    "    \n",
    "    # 过滤掉无效值（如果有）\n",
    "    valid_data = compare.dropna(subset=['gpt_sentiment', col])\n",
    "    \n",
    "    # 计算绝对差平均值\n",
    "    abs_diff = np.mean(np.abs(valid_data['gpt_sentiment'] - valid_data[col]))\n",
    "    \n",
    "    # 计算均方误差（MSE）\n",
    "    mse = np.mean((valid_data['gpt_sentiment'] - valid_data[col])**2)\n",
    "    \n",
    "    results[method] = {\n",
    "        'absolute_difference_mean': abs_diff,\n",
    "        'mean_squared_error': mse\n",
    "    }\n",
    "\n",
    "results_df = pd.DataFrame(results).T\n",
    "print(\"\\n各方法与GPT情绪的差异分析:\")\n",
    "print(results_df)"
   ]
  }
 ],
 "metadata": {
  "kernelspec": {
   "display_name": "finnews3",
   "language": "python",
   "name": "python3"
  },
  "language_info": {
   "codemirror_mode": {
    "name": "ipython",
    "version": 3
   },
   "file_extension": ".py",
   "mimetype": "text/x-python",
   "name": "python",
   "nbconvert_exporter": "python",
   "pygments_lexer": "ipython3",
   "version": "3.9.23"
  }
 },
 "nbformat": 4,
 "nbformat_minor": 2
}
